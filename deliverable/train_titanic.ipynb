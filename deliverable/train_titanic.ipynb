{
 "cells": [
  {
   "cell_type": "markdown",
   "id": "4a34f155",
   "metadata": {},
   "source": [
    "# **🚢📦 Deliverable: Titanic Baseline Classifier**\n",
    "\n",
    "**🎯 Task:**  \n",
    "Train a **baseline classifier** using a `sklearn` pipeline on the **Titanic dataset** that predicts whether a passenger **lives or dies**.  \n",
    "\n",
    "- Use the Titanic dataset (available via `seaborn`).  \n",
    "- Build an end-to-end pipeline (preprocessing + model).  \n",
    "- Evaluate your model on a held-out test set.  \n",
    "- Report baseline metrics in mlflow: accuracy, precision, recall, and f1-score. \n",
    "- Alias a model for production with @prod. \n",
    "\n",
    "**📤 Submission:**  \n",
    "When your model is ready, **deploy it to Render** and obtain a reachable Public API URL. \\\n",
    "Submit your API URL using the following 👉 [Airtable](https://airtable.com/appbzvXorTGCwSsy9/pagYPfSy0uxXrdsUL/form)\n",
    "\n",
    "**⏳ Timeline:**  \n",
    "You have **1 week** to complete this deliverable. \\\n",
    "Submissions to the `Airtable` will be available until **August 29, 2025 @11:59 PM**\n",
    "\n",
    "**🏅 Certification:**  \n",
    "Upon **successful completion**, you will be awarded a **Certificate of Achievement** for this workshop. \n",
    "\n",
    "---"
   ]
  },
  {
   "cell_type": "markdown",
   "id": "d5da2c91",
   "metadata": {},
   "source": [
    "## **1. Data Ingestion**"
   ]
  },
  {
   "cell_type": "code",
   "execution_count": 24,
   "id": "31c8e967",
   "metadata": {},
   "outputs": [],
   "source": [
    "import seaborn as sns\n",
    "import pandas as pd\n",
    "import numpy as np\n",
    "import matplotlib.pyplot as plt\n",
    "from sklearn.preprocessing import OneHotEncoder, StandardScaler\n",
    "from sklearn.model_selection import train_test_split\n",
    "from sklearn.pipeline import Pipeline\n",
    "from sklearn.impute import SimpleImputer\n",
    "from sklearn.compose import ColumnTransformer\n",
    "from sklearn.linear_model import LogisticRegression\n",
    "from sklearn.metrics import classification_report, ConfusionMatrixDisplay\n",
    "import mlflow"
   ]
  },
  {
   "cell_type": "code",
   "execution_count": 23,
   "id": "576e63cb",
   "metadata": {},
   "outputs": [
    {
     "name": "stdout",
     "output_type": "stream",
     "text": [
      "ROWS, COLUMNS: (891, 15)\n"
     ]
    },
    {
     "data": {
      "text/html": [
       "<div>\n",
       "<style scoped>\n",
       "    .dataframe tbody tr th:only-of-type {\n",
       "        vertical-align: middle;\n",
       "    }\n",
       "\n",
       "    .dataframe tbody tr th {\n",
       "        vertical-align: top;\n",
       "    }\n",
       "\n",
       "    .dataframe thead th {\n",
       "        text-align: right;\n",
       "    }\n",
       "</style>\n",
       "<table border=\"1\" class=\"dataframe\">\n",
       "  <thead>\n",
       "    <tr style=\"text-align: right;\">\n",
       "      <th></th>\n",
       "      <th>survived</th>\n",
       "      <th>pclass</th>\n",
       "      <th>sex</th>\n",
       "      <th>age</th>\n",
       "      <th>sibsp</th>\n",
       "      <th>parch</th>\n",
       "      <th>fare</th>\n",
       "      <th>embarked</th>\n",
       "      <th>class</th>\n",
       "      <th>who</th>\n",
       "      <th>adult_male</th>\n",
       "      <th>deck</th>\n",
       "      <th>embark_town</th>\n",
       "      <th>alive</th>\n",
       "      <th>alone</th>\n",
       "    </tr>\n",
       "  </thead>\n",
       "  <tbody>\n",
       "    <tr>\n",
       "      <th>0</th>\n",
       "      <td>0</td>\n",
       "      <td>3</td>\n",
       "      <td>male</td>\n",
       "      <td>22.0</td>\n",
       "      <td>1</td>\n",
       "      <td>0</td>\n",
       "      <td>7.2500</td>\n",
       "      <td>S</td>\n",
       "      <td>Third</td>\n",
       "      <td>man</td>\n",
       "      <td>True</td>\n",
       "      <td>NaN</td>\n",
       "      <td>Southampton</td>\n",
       "      <td>no</td>\n",
       "      <td>False</td>\n",
       "    </tr>\n",
       "    <tr>\n",
       "      <th>1</th>\n",
       "      <td>1</td>\n",
       "      <td>1</td>\n",
       "      <td>female</td>\n",
       "      <td>38.0</td>\n",
       "      <td>1</td>\n",
       "      <td>0</td>\n",
       "      <td>71.2833</td>\n",
       "      <td>C</td>\n",
       "      <td>First</td>\n",
       "      <td>woman</td>\n",
       "      <td>False</td>\n",
       "      <td>C</td>\n",
       "      <td>Cherbourg</td>\n",
       "      <td>yes</td>\n",
       "      <td>False</td>\n",
       "    </tr>\n",
       "    <tr>\n",
       "      <th>2</th>\n",
       "      <td>1</td>\n",
       "      <td>3</td>\n",
       "      <td>female</td>\n",
       "      <td>26.0</td>\n",
       "      <td>0</td>\n",
       "      <td>0</td>\n",
       "      <td>7.9250</td>\n",
       "      <td>S</td>\n",
       "      <td>Third</td>\n",
       "      <td>woman</td>\n",
       "      <td>False</td>\n",
       "      <td>NaN</td>\n",
       "      <td>Southampton</td>\n",
       "      <td>yes</td>\n",
       "      <td>True</td>\n",
       "    </tr>\n",
       "    <tr>\n",
       "      <th>3</th>\n",
       "      <td>1</td>\n",
       "      <td>1</td>\n",
       "      <td>female</td>\n",
       "      <td>35.0</td>\n",
       "      <td>1</td>\n",
       "      <td>0</td>\n",
       "      <td>53.1000</td>\n",
       "      <td>S</td>\n",
       "      <td>First</td>\n",
       "      <td>woman</td>\n",
       "      <td>False</td>\n",
       "      <td>C</td>\n",
       "      <td>Southampton</td>\n",
       "      <td>yes</td>\n",
       "      <td>False</td>\n",
       "    </tr>\n",
       "    <tr>\n",
       "      <th>4</th>\n",
       "      <td>0</td>\n",
       "      <td>3</td>\n",
       "      <td>male</td>\n",
       "      <td>35.0</td>\n",
       "      <td>0</td>\n",
       "      <td>0</td>\n",
       "      <td>8.0500</td>\n",
       "      <td>S</td>\n",
       "      <td>Third</td>\n",
       "      <td>man</td>\n",
       "      <td>True</td>\n",
       "      <td>NaN</td>\n",
       "      <td>Southampton</td>\n",
       "      <td>no</td>\n",
       "      <td>True</td>\n",
       "    </tr>\n",
       "  </tbody>\n",
       "</table>\n",
       "</div>"
      ],
      "text/plain": [
       "   survived  pclass     sex   age  sibsp  parch     fare embarked  class  \\\n",
       "0         0       3    male  22.0      1      0   7.2500        S  Third   \n",
       "1         1       1  female  38.0      1      0  71.2833        C  First   \n",
       "2         1       3  female  26.0      0      0   7.9250        S  Third   \n",
       "3         1       1  female  35.0      1      0  53.1000        S  First   \n",
       "4         0       3    male  35.0      0      0   8.0500        S  Third   \n",
       "\n",
       "     who  adult_male deck  embark_town alive  alone  \n",
       "0    man        True  NaN  Southampton    no  False  \n",
       "1  woman       False    C    Cherbourg   yes  False  \n",
       "2  woman       False  NaN  Southampton   yes   True  \n",
       "3  woman       False    C  Southampton   yes  False  \n",
       "4    man        True  NaN  Southampton    no   True  "
      ]
     },
     "execution_count": 23,
     "metadata": {},
     "output_type": "execute_result"
    }
   ],
   "source": [
    "pd.set_option(\"display.max_columns\", None)\n",
    "\n",
    "# Load titanic dataset\n",
    "titanic = sns.load_dataset(\"titanic\")\n",
    "\n",
    "print(f\"ROWS, COLUMNS: {titanic.shape}\")\n",
    "titanic.head()"
   ]
  },
  {
   "cell_type": "markdown",
   "id": "e0ae62ca",
   "metadata": {},
   "source": [
    "## **2. Data Preparation**\n",
    "\n",
    "1. Create `pre-processing` Pipeline: \n",
    "- Impute (replace) missing numerical (median) and categorical (most frequent) \\\n",
    "    values in the preprocessing pipeline\n",
    "- One-hot encode categoricals\n",
    "- Standardize numeric features \n",
    "2. Split Train/Test split (80/20)\n",
    "\n",
    "> You will need to remove or transform feature columns because of redundancy (e.g., `adult_male` is a column but we already have a `sex` column....`pclass` and `class`....`parch` and `sibsp` and `alone`....does it make sense to include `alive` if we're predicting `survived`?)"
   ]
  },
  {
   "cell_type": "code",
   "execution_count": 8,
   "id": "17878cd6",
   "metadata": {},
   "outputs": [
    {
     "name": "stdout",
     "output_type": "stream",
     "text": [
      "survived         0\n",
      "pclass           0\n",
      "sex              0\n",
      "age            177\n",
      "sibsp            0\n",
      "parch            0\n",
      "fare             0\n",
      "embarked         2\n",
      "class            0\n",
      "who              0\n",
      "adult_male       0\n",
      "deck           688\n",
      "embark_town      2\n",
      "alive            0\n",
      "alone            0\n",
      "dtype: int64\n",
      "\n"
     ]
    }
   ],
   "source": [
    "# Count missing values\n",
    "print(f\"{titanic.isna().sum()}\\n\")"
   ]
  },
  {
   "cell_type": "code",
   "execution_count": 9,
   "id": "68a8671a",
   "metadata": {},
   "outputs": [
    {
     "data": {
      "text/html": [
       "<div>\n",
       "<style scoped>\n",
       "    .dataframe tbody tr th:only-of-type {\n",
       "        vertical-align: middle;\n",
       "    }\n",
       "\n",
       "    .dataframe tbody tr th {\n",
       "        vertical-align: top;\n",
       "    }\n",
       "\n",
       "    .dataframe thead th {\n",
       "        text-align: right;\n",
       "    }\n",
       "</style>\n",
       "<table border=\"1\" class=\"dataframe\">\n",
       "  <thead>\n",
       "    <tr style=\"text-align: right;\">\n",
       "      <th></th>\n",
       "      <th>count</th>\n",
       "      <th>mean</th>\n",
       "      <th>std</th>\n",
       "      <th>min</th>\n",
       "      <th>25%</th>\n",
       "      <th>50%</th>\n",
       "      <th>75%</th>\n",
       "      <th>max</th>\n",
       "    </tr>\n",
       "  </thead>\n",
       "  <tbody>\n",
       "    <tr>\n",
       "      <th>survived</th>\n",
       "      <td>891.0</td>\n",
       "      <td>0.383838</td>\n",
       "      <td>0.486592</td>\n",
       "      <td>0.00</td>\n",
       "      <td>0.0000</td>\n",
       "      <td>0.0000</td>\n",
       "      <td>1.0</td>\n",
       "      <td>1.0000</td>\n",
       "    </tr>\n",
       "    <tr>\n",
       "      <th>pclass</th>\n",
       "      <td>891.0</td>\n",
       "      <td>2.308642</td>\n",
       "      <td>0.836071</td>\n",
       "      <td>1.00</td>\n",
       "      <td>2.0000</td>\n",
       "      <td>3.0000</td>\n",
       "      <td>3.0</td>\n",
       "      <td>3.0000</td>\n",
       "    </tr>\n",
       "    <tr>\n",
       "      <th>age</th>\n",
       "      <td>714.0</td>\n",
       "      <td>29.699118</td>\n",
       "      <td>14.526497</td>\n",
       "      <td>0.42</td>\n",
       "      <td>20.1250</td>\n",
       "      <td>28.0000</td>\n",
       "      <td>38.0</td>\n",
       "      <td>80.0000</td>\n",
       "    </tr>\n",
       "    <tr>\n",
       "      <th>sibsp</th>\n",
       "      <td>891.0</td>\n",
       "      <td>0.523008</td>\n",
       "      <td>1.102743</td>\n",
       "      <td>0.00</td>\n",
       "      <td>0.0000</td>\n",
       "      <td>0.0000</td>\n",
       "      <td>1.0</td>\n",
       "      <td>8.0000</td>\n",
       "    </tr>\n",
       "    <tr>\n",
       "      <th>parch</th>\n",
       "      <td>891.0</td>\n",
       "      <td>0.381594</td>\n",
       "      <td>0.806057</td>\n",
       "      <td>0.00</td>\n",
       "      <td>0.0000</td>\n",
       "      <td>0.0000</td>\n",
       "      <td>0.0</td>\n",
       "      <td>6.0000</td>\n",
       "    </tr>\n",
       "    <tr>\n",
       "      <th>fare</th>\n",
       "      <td>891.0</td>\n",
       "      <td>32.204208</td>\n",
       "      <td>49.693429</td>\n",
       "      <td>0.00</td>\n",
       "      <td>7.9104</td>\n",
       "      <td>14.4542</td>\n",
       "      <td>31.0</td>\n",
       "      <td>512.3292</td>\n",
       "    </tr>\n",
       "  </tbody>\n",
       "</table>\n",
       "</div>"
      ],
      "text/plain": [
       "          count       mean        std   min      25%      50%   75%       max\n",
       "survived  891.0   0.383838   0.486592  0.00   0.0000   0.0000   1.0    1.0000\n",
       "pclass    891.0   2.308642   0.836071  1.00   2.0000   3.0000   3.0    3.0000\n",
       "age       714.0  29.699118  14.526497  0.42  20.1250  28.0000  38.0   80.0000\n",
       "sibsp     891.0   0.523008   1.102743  0.00   0.0000   0.0000   1.0    8.0000\n",
       "parch     891.0   0.381594   0.806057  0.00   0.0000   0.0000   0.0    6.0000\n",
       "fare      891.0  32.204208  49.693429  0.00   7.9104  14.4542  31.0  512.3292"
      ]
     },
     "execution_count": 9,
     "metadata": {},
     "output_type": "execute_result"
    }
   ],
   "source": [
    "# Summary of numeric columns \n",
    "titanic.describe().T"
   ]
  },
  {
   "cell_type": "code",
   "execution_count": 7,
   "id": "a0c25ff2",
   "metadata": {},
   "outputs": [
    {
     "name": "stdout",
     "output_type": "stream",
     "text": [
      "sex: ['male' 'female']\n",
      "embarked: ['S' 'C' 'Q' nan]\n",
      "who: ['man' 'woman' 'child']\n",
      "embark_town: ['Southampton' 'Cherbourg' 'Queenstown' nan]\n",
      "alive: ['no' 'yes']\n"
     ]
    },
    {
     "data": {
      "text/html": [
       "<div>\n",
       "<style scoped>\n",
       "    .dataframe tbody tr th:only-of-type {\n",
       "        vertical-align: middle;\n",
       "    }\n",
       "\n",
       "    .dataframe tbody tr th {\n",
       "        vertical-align: top;\n",
       "    }\n",
       "\n",
       "    .dataframe thead th {\n",
       "        text-align: right;\n",
       "    }\n",
       "</style>\n",
       "<table border=\"1\" class=\"dataframe\">\n",
       "  <thead>\n",
       "    <tr style=\"text-align: right;\">\n",
       "      <th></th>\n",
       "      <th>count</th>\n",
       "      <th>unique</th>\n",
       "      <th>top</th>\n",
       "      <th>freq</th>\n",
       "    </tr>\n",
       "  </thead>\n",
       "  <tbody>\n",
       "    <tr>\n",
       "      <th>sex</th>\n",
       "      <td>891</td>\n",
       "      <td>2</td>\n",
       "      <td>male</td>\n",
       "      <td>577</td>\n",
       "    </tr>\n",
       "    <tr>\n",
       "      <th>embarked</th>\n",
       "      <td>889</td>\n",
       "      <td>3</td>\n",
       "      <td>S</td>\n",
       "      <td>644</td>\n",
       "    </tr>\n",
       "    <tr>\n",
       "      <th>who</th>\n",
       "      <td>891</td>\n",
       "      <td>3</td>\n",
       "      <td>man</td>\n",
       "      <td>537</td>\n",
       "    </tr>\n",
       "    <tr>\n",
       "      <th>embark_town</th>\n",
       "      <td>889</td>\n",
       "      <td>3</td>\n",
       "      <td>Southampton</td>\n",
       "      <td>644</td>\n",
       "    </tr>\n",
       "    <tr>\n",
       "      <th>alive</th>\n",
       "      <td>891</td>\n",
       "      <td>2</td>\n",
       "      <td>no</td>\n",
       "      <td>549</td>\n",
       "    </tr>\n",
       "  </tbody>\n",
       "</table>\n",
       "</div>"
      ],
      "text/plain": [
       "            count unique          top freq\n",
       "sex           891      2         male  577\n",
       "embarked      889      3            S  644\n",
       "who           891      3          man  537\n",
       "embark_town   889      3  Southampton  644\n",
       "alive         891      2           no  549"
      ]
     },
     "execution_count": 7,
     "metadata": {},
     "output_type": "execute_result"
    }
   ],
   "source": [
    "# Unique values for categorical columns\n",
    "for col in titanic.select_dtypes(\"object\"):\n",
    "    print(f\"{col}: {titanic[col].unique()}\")\n",
    "\n",
    "# Summary of categorical columns \n",
    "titanic.describe(include=\"object\").T"
   ]
  },
  {
   "cell_type": "code",
   "execution_count": null,
   "id": "99e011f4",
   "metadata": {},
   "outputs": [
    {
     "data": {
      "text/plain": [
       "survived\n",
       "0    549\n",
       "1    342\n",
       "Name: count, dtype: int64"
      ]
     },
     "execution_count": 13,
     "metadata": {},
     "output_type": "execute_result"
    }
   ],
   "source": [
    "# View class imbalance\n",
    "titanic[\"survived\"].value_counts()"
   ]
  },
  {
   "cell_type": "code",
   "execution_count": null,
   "id": "f5f4aabb",
   "metadata": {},
   "outputs": [
    {
     "name": "stdout",
     "output_type": "stream",
     "text": [
      "Numeric: ['pclass', 'age', 'sibsp', 'parch', 'fare']\n",
      "Categorical: ['sex', 'embarked', 'class', 'who', 'adult_male', 'deck', 'embark_town', 'alone']\n",
      "TRAIN SET: (712, 13) survived\n",
      "0    0.62\n",
      "1    0.38\n",
      "Name: proportion, dtype: float64\n",
      "TEST SET: (179, 13) survived\n",
      "0    0.61\n",
      "1    0.39\n",
      "Name: proportion, dtype: float64\n"
     ]
    }
   ],
   "source": [
    "# -----------CODE HERE-------------"
   ]
  },
  {
   "cell_type": "markdown",
   "id": "4f9ae7b1",
   "metadata": {},
   "source": [
    "## **3. Model Training & EDA**\n",
    "\n",
    "1. Explore dataset through visualizations\n",
    "- Check class imbalance with bar chart for `survived`\n",
    "- Compare surival rate by `sex`, `class`, and `embarked`\n",
    "- Plot histograms/boxplots of `age` and `fare` split by `survived`\n",
    "- Show pairplot for correlations between numeric features\n",
    "\n",
    "2. Build a `Pipeline` that chains the **preprocessor** \n",
    "    and a **baseline model** like `LogisticRegression` or `RandomForestClassifer`\n",
    "\n",
    "3. Train on the 80 % train set and evaluate on the held‑out 20 % test set\n",
    "\n",
    "4. Save metrics (i.e., accuracy, test_f1_macro, test_recall_macro, test_precision_macro) for logging\n"
   ]
  },
  {
   "cell_type": "code",
   "execution_count": null,
   "id": "476348b1",
   "metadata": {},
   "outputs": [
    {
     "name": "stdout",
     "output_type": "stream",
     "text": [
      "TEST REPORT:\n",
      "               precision    recall  f1-score   support\n",
      "\n",
      "           0       0.85      0.87      0.86       110\n",
      "           1       0.79      0.75      0.77        69\n",
      "\n",
      "    accuracy                           0.83       179\n",
      "   macro avg       0.82      0.81      0.82       179\n",
      "weighted avg       0.83      0.83      0.83       179\n",
      "\n"
     ]
    },
    {
     "data": {
      "image/png": "[encoded data removed]",
      "text/plain": [
       "<Figure size 640x480 with 2 Axes>"
      ]
     },
     "metadata": {},
     "output_type": "display_data"
    }
   ],
   "source": [
    "# -----------CODE HERE-------------"
   ]
  },
  {
   "cell_type": "markdown",
   "id": "51d3fcd1",
   "metadata": {},
   "source": [
    "## **4. DVC not required for deliverable**"
   ]
  },
  {
   "cell_type": "markdown",
   "id": "7b891dd3",
   "metadata": {},
   "source": [
    "## **5. Tracking experiment in MLflow**\n",
    "\n",
    "1. Start mlflow server locally: `mlflow server` or `mlflow ui` (be aware of port conflicts - MacOS uses 5000 for Airplay for some reason)\n",
    "2. Track **at least** 1 experiment in MLflow which logs: \n",
    "- Test Metrics\n",
    "- Hyperparameters \n",
    "- Run tags for dataset, framework, and owner (you)\n",
    "- Model - registers under name `titanic-classifier` (or any name you want)\n",
    "- Model tags for run ID and run name (if you make explicit)\n",
    "\n",
    "3. Set @prod alias to one run (if running multiple experiments, maybe rank with metrics, then proceed with this step...)\n",
    "- this is for practice (our deployed API doesn't point to the @prod alias)"
   ]
  },
  {
   "cell_type": "code",
   "execution_count": null,
   "id": "3690d598",
   "metadata": {},
   "outputs": [
    {
     "name": "stderr",
     "output_type": "stream",
     "text": [
      "2025/08/21 22:31:42 INFO mlflow.tracking.fluent: Experiment with name 'titanic-classifier' does not exist. Creating a new experiment.\n"
     ]
    },
    {
     "name": "stderr",
     "output_type": "stream",
     "text": [
      "2025/08/21 22:31:42 WARNING mlflow.models.model: `artifact_path` is deprecated. Please use `name` instead.\n",
      "/home/kaipatel/dmls-mlops-workshop/.venv/lib/python3.11/site-packages/mlflow/types/utils.py:452: UserWarning: Hint: Inferred schema contains integer column(s). Integer columns in Python cannot represent missing values. If your input data contains missing values at inference time, it will be encoded as floats and will cause a schema enforcement error. The best way to avoid this problem is to infer the model schema based on a realistic data sample (training dataset) that includes missing values. Alternatively, you can declare integer columns as doubles (float64) whenever these columns may have missing values. See `Handling Integers With Missing Values <https://www.mlflow.org/docs/latest/models.html#handling-integers-with-missing-values>`_ for more details.\n",
      "  warnings.warn(\n",
      "2025/08/21 22:31:43 WARNING mlflow.models.signature: Failed to infer the model signature from the input example. Reason: MlflowException(\"Failed to enforce schema of data '     pclass   sex  age  sibsp  parch     fare embarked  class  who  \\\\\\n692       3  male  NaN      0      0  56.4958        S  Third  man   \\n\\n     adult_male deck  embark_town  alone  \\n692        True  NaN  Southampton   True  ' with schema '['pclass': long (required), 'sex': string (required), 'age': double (optional), 'sibsp': long (required), 'parch': long (required), 'fare': double (required), 'embarked': string (required), 'class': string (required), 'who': string (required), 'adult_male': boolean (required), 'deck': Any (optional), 'embark_town': string (required), 'alone': boolean (required)]'. Error: Incompatible input types for column class. Can not safely convert category to <U0.\"). To see the full traceback, set the logging level to DEBUG via `logging.getLogger(\"mlflow\").setLevel(logging.DEBUG)`.\n",
      "Successfully registered model 'titanic_classifer_baseline'.\n",
      "2025/08/21 22:31:51 INFO mlflow.store.model_registry.abstract_store: Waiting up to 300 seconds for model version to finish creation. Model name: titanic_classifer_baseline, version 1\n"
     ]
    },
    {
     "name": "stdout",
     "output_type": "stream",
     "text": [
      "🏃 View run stately-crab-541 at: http://localhost:5000/#/experiments/987949012121456934/runs/d6ac63a6e8804c63b0a7ae1dcddd0b95\n",
      "🧪 View experiment at: http://localhost:5000/#/experiments/987949012121456934\n"
     ]
    },
    {
     "name": "stderr",
     "output_type": "stream",
     "text": [
      "Created version '1' of model 'titanic_classifer_baseline'.\n"
     ]
    }
   ],
   "source": [
    "# -----------CODE HERE-------------"
   ]
  },
  {
   "cell_type": "markdown",
   "id": "003e208a",
   "metadata": {},
   "source": [
    "## **6. Test Your model**\n",
    "\n",
    "1. Navigate to the local `mlartifacts` directory that should have propogated \\\n",
    "into your root if you ran MLflow\n",
    "\n",
    "2. Choose and copy the **artifact folder** for the run you want to deploy.\n",
    "- It will be nested in `mlartifacts`, so ensure that you copy the top-level directory `artifacts` which contains files like `model.pkl`, `MLmodel`, `conda.yaml`, ...\n",
    "\n",
    "3. Paste this `artifacts` folder into the `deliverable/api` directory \n",
    "\n",
    "4. Run the api locally\n",
    "    ```bash\n",
    "    uvicorn app:app --reload --port 8000\n",
    "    ```\n",
    "\n",
    "5. Test the API\n",
    "    ```bash\n",
    "    python deliverable/api/test_app.py \n",
    "    ```\n",
    "    ```bash\n",
    "    python3 deliverable/api/test_app.py \n",
    "    ``` "
   ]
  },
  {
   "cell_type": "markdown",
   "id": "6a6c39d2",
   "metadata": {},
   "source": [
    "## **7. Deploy Your Model in Render**\n",
    "\n",
    "1. **Preview `render.yaml` at the repo root** \\\n",
    "  We will use this Blueprint file (similar to docker-compose.yml) to deploy our FastAPI\n",
    "\n",
    "2. **Commit and push your work to your forked `cert/deliverable` branch to GitHub**\n",
    "  ```bash\n",
    "    # From your repo root, commit all changes\n",
    "    git add render.yaml\n",
    "    git add deliverable/api/\n",
    "\n",
    "    git commit -m \"Certificate deliverable: Titanic API + artifacts/ + render.yaml\"\n",
    "    git push origin cert/deliverable\n",
    "  ```\n",
    "\n",
    "3. **Signup or login to [Render](https://render.com)**\n",
    "\n",
    "4. **In Render: New → Blueprint → point to the `cert/deliverable` branch**\n",
    "  \n",
    "    #### 💳 Note on Payment Info\n",
    "    Render will ask you to enter payment information when you create an account.  \n",
    "    👉 **Don’t worry — you will not be charged if you stay on the Free plan.**\n",
    "\n",
    "    - A **free Web Service** with your deployed FastAPI app (even with the model artifact included) is covered by Render’s free tier.  \n",
    "    - Render only charges if you upgrade to a paid plan or run multiple services beyond free limits.  \n",
    "    - You can always check your **Plan & Billing** page in Render to confirm you are on the **Free** plan.\n",
    "\n",
    "5. **Review settings → choose Free plan → Apply**\n",
    "\n",
    "6. **Wait for build → deploy → health check**  \n",
    "   Once it passes, you’ll get a public URL like:  \n",
    "   `https://titanic-api-xxx.onrender.com`\n",
    "\n",
    "7. **Test your deployed model**\n",
    "\n",
    "    ```bash\n",
    "    curl -s -X POST \"<PUBLIC_URL>/predict\" \\\n",
    "      -H \"Content-Type: application/json\" \\\n",
    "      -d '{\n",
    "        \"pclass\": 1,\n",
    "        \"sex\": \"female\",\n",
    "        \"age\": 38,\n",
    "        \"sibsp\": 1,\n",
    "        \"parch\": 0,\n",
    "        \"fare\": 71.2833,\n",
    "        \"embarked\": \"C\",\n",
    "        \"class\": \"First\",\n",
    "        \"who\": \"woman\",\n",
    "        \"adult_male\": false,\n",
    "        \"deck\": \"C\",\n",
    "        \"embark_town\": \"Cherbourg\",\n",
    "        \"alone\": false\n",
    "      }'\n",
    "    ```\n"
   ]
  },
  {
   "cell_type": "markdown",
   "id": "a9c65a2e",
   "metadata": {},
   "source": [
    "## **8. Submit your Public API URL**\n",
    "\n",
    "1. Navigate to the [Airtable](https://airtable.com/appbzvXorTGCwSsy9/pagYPfSy0uxXrdsUL/form)\n",
    "\n",
    "2. Submit your API URL obtained from Render for testing"
   ]
  }
 ],
 "metadata": {
  "kernelspec": {
   "display_name": ".venv",
   "language": "python",
   "name": "python3"
  },
  "language_info": {
   "codemirror_mode": {
    "name": "ipython",
    "version": 3
   },
   "file_extension": ".py",
   "mimetype": "text/x-python",
   "name": "python",
   "nbconvert_exporter": "python",
   "pygments_lexer": "ipython3",
   "version": "3.11.11"
  }
 },
 "nbformat": 4,
 "nbformat_minor": 5
}
